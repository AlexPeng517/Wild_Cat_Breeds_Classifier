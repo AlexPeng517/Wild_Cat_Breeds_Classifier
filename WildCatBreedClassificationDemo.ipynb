{
  "nbformat": 4,
  "nbformat_minor": 0,
  "metadata": {
    "colab": {
      "provenance": [],
      "mount_file_id": "1YAAFJ6IHTzABh5JI0AVgnRfTsLriNtJU",
      "authorship_tag": "ABX9TyNjQ2b65xWbj7vGZBSFTSND",
      "include_colab_link": true
    },
    "kernelspec": {
      "name": "python3",
      "display_name": "Python 3"
    },
    "language_info": {
      "name": "python"
    }
  },
  "cells": [
    {
      "cell_type": "markdown",
      "metadata": {
        "id": "view-in-github",
        "colab_type": "text"
      },
      "source": [
        "<a href=\"https://colab.research.google.com/github/AlexPeng517/leopard-cat-transfer-learning-classifier/blob/main/WildCatBreedClassificationDemo.ipynb\" target=\"_parent\"><img src=\"https://colab.research.google.com/assets/colab-badge.svg\" alt=\"Open In Colab\"/></a>"
      ]
    },
    {
      "cell_type": "markdown",
      "source": [
        "Step 1. To use the model, please first download our pre-trained model from GDrive.\n",
        "\n",
        "Link: [LeopardCatTransferLearningSavedModel](https://drive.google.com/drive/folders/1S_p_x5SoqrdQtAUgnN3FcUpNbVtNoVlF?usp=sharing)"
      ],
      "metadata": {
        "id": "GBfBhNxj1dWi"
      }
    },
    {
      "cell_type": "markdown",
      "source": [
        "Step 2. Upload the folder to your drive and mount to Colab"
      ],
      "metadata": {
        "id": "VQ6ZLSM85VNZ"
      }
    },
    {
      "cell_type": "markdown",
      "source": [
        "Step 3.Load the pre-trained model to current running instance by replacing the folder path."
      ],
      "metadata": {
        "id": "aDeFQUp75qc4"
      }
    },
    {
      "cell_type": "code",
      "source": [
        "import tensorflow as tf\n",
        "import PIL.Image as Image\n",
        "import numpy as np"
      ],
      "metadata": {
        "id": "W_iM-CtE15-D"
      },
      "execution_count": 1,
      "outputs": []
    },
    {
      "cell_type": "code",
      "execution_count": 2,
      "metadata": {
        "colab": {
          "base_uri": "https://localhost:8080/"
        },
        "id": "fu6lMVm41S4Z",
        "outputId": "07b57447-b463-4b08-e983-498b503caf9d"
      },
      "outputs": [
        {
          "output_type": "stream",
          "name": "stdout",
          "text": [
            "Model: \"sequential\"\n",
            "_________________________________________________________________\n",
            " Layer (type)                Output Shape              Param #   \n",
            "=================================================================\n",
            " keras_layer (KerasLayer)    (None, 1280)              207615832 \n",
            "                                                                 \n",
            " dense (Dense)               (None, 6)                 7686      \n",
            "                                                                 \n",
            "=================================================================\n",
            "Total params: 207,623,518\n",
            "Trainable params: 7,686\n",
            "Non-trainable params: 207,615,832\n",
            "_________________________________________________________________\n"
          ]
        }
      ],
      "source": [
        "model = tf.keras.models.load_model('/content/drive/MyDrive/大二資料/Introduction To ML/saved_model/LeopardCatTransferLearning_model')\n",
        "model.summary()"
      ]
    },
    {
      "cell_type": "markdown",
      "source": [
        "Step 4. Copy and Paste your image URL and name the picture in the blanks (Remember to add .jpg file extension) "
      ],
      "metadata": {
        "id": "37eTZSJP6HOZ"
      }
    },
    {
      "cell_type": "markdown",
      "source": [
        "Step 5. Execute the cell below, and it will tell you what the cat breed is."
      ],
      "metadata": {
        "id": "vXVQwRKS6dsM"
      }
    },
    {
      "cell_type": "code",
      "source": [
        "ImageURL = \"\" #@param {type:\"string\"}\n",
        "ImageName = \"0.jpg\" #@param {type:\"string\"}\n",
        "class_names = [('Egyptian-cat', 0), ('Persian-cat', 1), ('Siamese-cat', 2), ('leopard-cat', 3), ('lynx', 4), ('tabby', 5)]\n",
        "img = tf.keras.utils.get_file(ImageName, ImageURL)\n",
        "img = Image.open(img).resize((512,512))\n",
        "img = np.array(img)/255.0\n",
        "result = model.predict(img[np.newaxis, ...])\n",
        "predicted_class = np.argmax(result[0], axis=-1)\n",
        "class_names[predicted_class] # 'Leopard-Cat'"
      ],
      "metadata": {
        "colab": {
          "base_uri": "https://localhost:8080/"
        },
        "id": "FOD6Pv_E2Fg7",
        "outputId": "2d4d298c-1dbd-417d-b6fc-1c221ee27003"
      },
      "execution_count": 7,
      "outputs": [
        {
          "output_type": "execute_result",
          "data": {
            "text/plain": [
              "('lynx', 4)"
            ]
          },
          "metadata": {},
          "execution_count": 7
        }
      ]
    }
  ]
}